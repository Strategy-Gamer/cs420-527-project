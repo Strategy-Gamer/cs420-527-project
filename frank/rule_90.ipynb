{
 "cells": [
  {
   "cell_type": "markdown",
   "metadata": {},
   "source": [
    "## rule 90 stuff"
   ]
  },
  {
   "cell_type": "markdown",
   "metadata": {},
   "source": [
    "**quantum circuit parameters**"
   ]
  },
  {
   "cell_type": "code",
   "execution_count": 1,
   "metadata": {},
   "outputs": [],
   "source": [
    "# Global parameters\n",
    "n = 5   # Number of spatial cells\n",
    "m = 5   # Number of time steps\n",
    "shots = 128"
   ]
  },
  {
   "cell_type": "code",
   "execution_count": 2,
   "metadata": {},
   "outputs": [],
   "source": [
    "# Rule 90 patterns that should lead to output 1\n",
    "rule90 = [\n",
    "    (1, 1, 0),  # 110\n",
    "    (1, 0, 0),  # 100\n",
    "    (0, 1, 1),  # 011\n",
    "    (0, 0, 1)   # 001\n",
    "]"
   ]
  },
  {
   "cell_type": "markdown",
   "metadata": {},
   "source": [
    "**classical definition**"
   ]
  },
  {
   "cell_type": "code",
   "execution_count": 3,
   "metadata": {},
   "outputs": [],
   "source": [
    "def classical_rule90(size=n, steps=m):\n",
    "    import numpy as np\n",
    "    grid = np.zeros((steps, size), dtype=np.uint8)\n",
    "    grid[0, size // 2] = 1\n",
    "    for t in range(1, steps):\n",
    "        left = np.roll(grid[t - 1], 1)\n",
    "        center = grid[t - 1]\n",
    "        right = np.roll(grid[t - 1], -1)\n",
    "        neighborhood = (left << 2) | (center << 1) | right\n",
    "        rule = 0b01011010\n",
    "        grid[t] = ((rule >> neighborhood) & 1).astype(np.uint8)\n",
    "    return grid"
   ]
  },
  {
   "cell_type": "markdown",
   "metadata": {},
   "source": [
    "## quantum"
   ]
  },
  {
   "cell_type": "code",
   "execution_count": 4,
   "metadata": {},
   "outputs": [],
   "source": [
    "import pennylane as qml\n",
    "from pennylane import numpy as qnp\n",
    "\n",
    "# Device: total qubits = n * m + 1 (1 ancilla)\n",
    "dev = qml.device(\"default.qubit\", wires=n * m + 1, shots=shots)"
   ]
  },
  {
   "cell_type": "markdown",
   "metadata": {},
   "source": [
    "**Custom quantum gate: CCCNOT**"
   ]
  },
  {
   "cell_type": "code",
   "execution_count": 5,
   "metadata": {},
   "outputs": [],
   "source": [
    "def cccnot(c1, c2, c3, target, ancilla):\n",
    "    \"\"\"Emulate a CCCNOT (3-control) gate using two Toffoli gates and one ancilla qubit.\"\"\"\n",
    "    qml.Toffoli(wires=[c1, c2, ancilla])  # First Toffoli gate\n",
    "    qml.Toffoli(wires=[c3, ancilla, target])  # Second Toffoli gate\n",
    "    qml.Toffoli(wires=[c1, c2, ancilla])  # Uncompute the ancilla"
   ]
  },
  {
   "cell_type": "markdown",
   "metadata": {},
   "source": [
    "**QCA simulation helpers**"
   ]
  },
  {
   "cell_type": "code",
   "execution_count": 6,
   "metadata": {},
   "outputs": [],
   "source": [
    "def apply_rule(qc, t, i, rule, n, m, ancilla_wire):\n",
    "    \"\"\"Apply rule to position `i` at time `t` using pattern `rule`.\"\"\"\n",
    "    def qubit(timestep, pos):\n",
    "        return n * timestep + pos\n",
    "\n",
    "    if i == 0:\n",
    "        if rule[0]: return\n",
    "        for j in [1, 2]:\n",
    "            if not rule[j]:\n",
    "                qml.PauliX(qubit(t, i + j))\n",
    "        qml.Toffoli(wires=[qubit(t, i + 1), qubit(t, i + 2), qubit(t + 1, i + 1)])\n",
    "        for j in [1, 2]:\n",
    "            if not rule[j]:\n",
    "                qml.PauliX(qubit(t, i + j))\n",
    "    elif i == n - 1:\n",
    "        if rule[2]: return\n",
    "        for j in [0, 1]:\n",
    "            if not rule[j]:\n",
    "                qml.PauliX(qubit(t, i + j))\n",
    "        qml.Toffoli(wires=[qubit(t, i), qubit(t, i + 1), qubit(t + 1, i + 1)])\n",
    "        for j in [0, 1]:\n",
    "            if not rule[j]:\n",
    "                qml.PauliX(qubit(t, i + j))\n",
    "    else:\n",
    "        for j in range(3):\n",
    "            if not rule[j]:\n",
    "                qml.PauliX(qubit(t, i + j))\n",
    "        cccnot(\n",
    "            qubit(t, i),\n",
    "            qubit(t, i + 1),\n",
    "            qubit(t, i + 2),\n",
    "            qubit(t + 1, i + 1),\n",
    "            ancilla_wire\n",
    "        )\n",
    "        for j in range(3):\n",
    "            if not rule[j]:\n",
    "                qml.PauliX(qubit(t, i + j))\n"
   ]
  },
  {
   "cell_type": "markdown",
   "metadata": {},
   "source": [
    "**THE quantum circuit**"
   ]
  },
  {
   "cell_type": "code",
   "execution_count": 7,
   "metadata": {},
   "outputs": [],
   "source": [
    "@qml.qnode(dev)\n",
    "def qca_rule90_circuit(\n",
    "    initialize_w_entanglement: bool = True,\n",
    "    mixed_initialization: bool = False):\n",
    "    # Initialize timestep 0\n",
    "    for i in range(n):\n",
    "        if initialize_w_entanglement:\n",
    "            if mixed_initialization:\n",
    "                if i == n // 2:\n",
    "                    qml.PauliX(i)\n",
    "                else:\n",
    "                    qml.Hadamard(i)\n",
    "            else:\n",
    "                qml.Hadamard(i)\n",
    "        else:\n",
    "            qml.PauliX(i)\n",
    "    \n",
    "    # Apply Rule 90 for m-1 steps\n",
    "    for t in range(m - 1):\n",
    "        for i in range(n):\n",
    "            for rule in rule90:\n",
    "                apply_rule(qml, t, i, rule, n, m, ancilla_wire=n * m)\n",
    "\n",
    "    # Measure all qubits *except* ancilla\n",
    "    return qml.sample(wires=list(range(n * m)))"
   ]
  },
  {
   "cell_type": "markdown",
   "metadata": {},
   "source": [
    "**running the quantum circuit + post-processing the results**"
   ]
  },
  {
   "cell_type": "code",
   "execution_count": 8,
   "metadata": {},
   "outputs": [
    {
     "data": {
      "image/png": "[encoded data removed]",
      "text/plain": [
       "<Figure size 640x480 with 1 Axes>"
      ]
     },
     "metadata": {},
     "output_type": "display_data"
    }
   ],
   "source": [
    "# Run circuit\n",
    "samples = qca_rule90_circuit()\n",
    "\n",
    "# Postprocess results into probability grid\n",
    "grid = qnp.zeros((m, n))\n",
    "for result in samples:\n",
    "    for idx, bit in enumerate(result):\n",
    "        if bit == 1:\n",
    "            grid[idx // n, idx % n] += 1\n",
    "\n",
    "# Normalize to get probabilities\n",
    "grid /= shots\n",
    "\n",
    "import matplotlib.pyplot as plt\n",
    "# Visualize\n",
    "plt.imshow(grid, cmap=\"viridis\", interpolation='nearest')\n",
    "plt.title(\"Quantum Rule 90 (PennyLane)\")\n",
    "plt.xlabel(\"Space\")\n",
    "plt.ylabel(\"Time\")\n",
    "plt.gca().invert_yaxis()  # match classical automata convention\n",
    "plt.show()"
   ]
  },
  {
   "cell_type": "markdown",
   "metadata": {},
   "source": [
    "## Comparison"
   ]
  },
  {
   "cell_type": "code",
   "execution_count": 9,
   "metadata": {},
   "outputs": [
    {
     "data": {
      "image/png": "[encoded data removed]",
      "text/plain": [
       "<Figure size 1000x400 with 2 Axes>"
      ]
     },
     "metadata": {},
     "output_type": "display_data"
    }
   ],
   "source": [
    "# Plot side-by-side\n",
    "fig, axs = plt.subplots(1, 2, figsize=(10, 4))\n",
    "axs[0].imshow(classical_rule90(), cmap=\"binary\", interpolation='nearest')\n",
    "axs[0].set_title(\"Classical Rule 90\")\n",
    "axs[1].imshow(grid, cmap=\"viridis\", interpolation='nearest')\n",
    "axs[1].set_title(\"Quantum Rule 90 (PennyLane)\")\n",
    "for ax in axs:\n",
    "    ax.set_xlabel(\"Space\")\n",
    "    ax.set_ylabel(\"Time\")\n",
    "    ax.invert_yaxis()\n",
    "plt.tight_layout()\n",
    "plt.show()"
   ]
  }
 ],
 "metadata": {
  "kernelspec": {
   "display_name": "Python 3 (ipykernel)",
   "language": "python",
   "name": "python3"
  },
  "language_info": {
   "codemirror_mode": {
    "name": "ipython",
    "version": 3
   },
   "file_extension": ".py",
   "mimetype": "text/x-python",
   "name": "python",
   "nbconvert_exporter": "python",
   "pygments_lexer": "ipython3",
   "version": "3.10.16"
  }
 },
 "nbformat": 4,
 "nbformat_minor": 4
}
