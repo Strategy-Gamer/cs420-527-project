{
 "cells": [
  {
   "cell_type": "code",
   "execution_count": 106,
   "id": "484cd5b4-b3c7-4a55-b579-55067b2b98b3",
   "metadata": {},
   "outputs": [],
   "source": [
    "import pennylane as qml\n",
    "from pennylane import numpy as qnp\n",
    "import numpy as np\n",
    "import math"
   ]
  },
  {
   "cell_type": "code",
   "execution_count": 107,
   "id": "3f1b4dd9-b09e-47cb-9ac1-649dcedb0163",
   "metadata": {},
   "outputs": [],
   "source": [
    "n = 5\n",
    "m = 20\n",
    "shots = 128\n",
    "l = 1\n",
    "rule90_patterns = [\n",
    "    (1, 1, 0),  # 110\n",
    "    (1, 0, 0),  # 100\n",
    "    (0, 1, 1),  # 011\n",
    "    (0, 0, 1)   # 001\n",
    "]"
   ]
  },
  {
   "cell_type": "code",
   "execution_count": 108,
   "id": "e9ab83bc-4e56-4464-ab61-7cf0556eb7c5",
   "metadata": {},
   "outputs": [],
   "source": [
    "def cccnot(c1, c2, c3, target, ancilla):\n",
    "    qml.Toffoli(wires=[c1, c2, ancilla])\n",
    "    qml.Toffoli(wires=[c3, ancilla, target])\n",
    "    qml.Toffoli(wires=[c1, c2, ancilla])"
   ]
  },
  {
   "cell_type": "code",
   "execution_count": 109,
   "id": "9612cb75-f5ec-490b-a068-24f6ba7bd04f",
   "metadata": {},
   "outputs": [],
   "source": [
    "def apply_rule(n, t, i, rule, ancilla_wire):\n",
    "    def qubit(timestep, pos):\n",
    "        return n * timestep + pos\n",
    "\n",
    "    if i == 0:\n",
    "        if rule[0]: return\n",
    "        for j in [1, 2]:\n",
    "            if not rule[j]:\n",
    "                qml.PauliX(qubit(t, i + j))\n",
    "        qml.Toffoli(wires=[qubit(t, i + 1), qubit(t, i + 2), qubit(t + 1, i + 1)])\n",
    "        for j in [1, 2]:\n",
    "            if not rule[j]:\n",
    "                qml.PauliX(qubit(t, i + j))\n",
    "    elif i == n - 1:\n",
    "        if rule[2]: return\n",
    "        for j in [0, 1]:\n",
    "            if not rule[j]:\n",
    "                qml.PauliX(qubit(t, i + j))\n",
    "        qml.Toffoli(wires=[qubit(t, i), qubit(t, i + 1), qubit(t + 1, i + 1)])\n",
    "        for j in [0, 1]:\n",
    "            if not rule[j]:\n",
    "                qml.PauliX(qubit(t, i + j))\n",
    "    else:\n",
    "        for j in range(3):\n",
    "            if not rule[j]:\n",
    "                qml.PauliX(qubit(t, i + j))\n",
    "        cccnot(\n",
    "            qubit(t, i),\n",
    "            qubit(t, i + 1),\n",
    "            qubit(t, i + 2),\n",
    "            qubit(t + 1, i + 1),\n",
    "            ancilla_wire\n",
    "        )\n",
    "        for j in range(3):\n",
    "            if not rule[j]:\n",
    "                qml.PauliX(qubit(t, i + j))"
   ]
  },
  {
   "cell_type": "code",
   "execution_count": 110,
   "id": "45410470-3b4c-4612-997e-daa532427712",
   "metadata": {},
   "outputs": [],
   "source": [
    "def initialize_state(n, with_entanglement: bool, mixed_init: bool):\n",
    "    for i in range(n):\n",
    "        if with_entanglement:\n",
    "            if mixed_init:\n",
    "                if i == n // 2:\n",
    "                    qml.PauliX(i)\n",
    "                else:\n",
    "                    qml.Hadamard(i)\n",
    "            else:\n",
    "                qml.Hadamard(i)\n",
    "        else:\n",
    "            qml.PauliX(i)"
   ]
  },
  {
   "cell_type": "code",
   "execution_count": 111,
   "id": "c22b1905-d038-4450-8afb-5e2da0eb4669",
   "metadata": {},
   "outputs": [],
   "source": [
    "def initialize_from_probs(prob_vector: np.ndarray):\n",
    "    qml.AmplitudeEmbedding(features=prob_vector, wires=range(n), normalize=True)"
   ]
  },
  {
   "cell_type": "code",
   "execution_count": 112,
   "id": "c03bc8f3-9f04-43a6-97fe-9c4bfa9baf80",
   "metadata": {},
   "outputs": [],
   "source": [
    "def run_window(n, l, shots, init_probs=None, with_ent=True, mixed_init=False):\n",
    "    total_qubits = n * l + 1\n",
    "    ancilla = total_qubits - 1\n",
    "    dev = qml.device(\"default.qubit\", wires=total_qubits, shots=shots)\n",
    "\n",
    "    @qml.qnode(dev)\n",
    "    def qca_window():\n",
    "        if init_probs is None:\n",
    "            initialize_state(n, with_ent, mixed_init)\n",
    "        else:\n",
    "            # Use real-amplitude embedding to initialize t=0\n",
    "            initialize_from_probs(init_probs)\n",
    "\n",
    "        for t in range(l - 1):\n",
    "            for i in range(n):\n",
    "                for pattern in rule90_patterns:\n",
    "                    apply_rule(n, t, i, pattern, ancilla)\n",
    "        return qml.probs(wires=[n * (l - 1) + i for i in range(n)])\n",
    "\n",
    "    return qca_window()"
   ]
  },
  {
   "cell_type": "code",
   "execution_count": 113,
   "id": "d0a4cb82-6cea-4720-8456-b1cda061cf44",
   "metadata": {},
   "outputs": [],
   "source": [
    "def to_bits(n, bits):\n",
    "    return np.array([int(i) for i in bin(n)[2:].zfill(bits)])"
   ]
  },
  {
   "cell_type": "code",
   "execution_count": 117,
   "id": "5acaa4c9-44c0-4975-8601-84e0fe4a65fe",
   "metadata": {},
   "outputs": [],
   "source": [
    "def probs_to_grid(probs):\n",
    "    nprobs = probs.size\n",
    "    n = int(math.log2(nprobs))\n",
    "    assert (1 << n == nprobs)\n",
    "    avg = np.zeros((n))\n",
    "    for i in range(n):\n",
    "        bits = to_bits(i, n)\n",
    "        avg += probs[i] * bits\n",
    "    return avg"
   ]
  },
  {
   "cell_type": "code",
   "execution_count": 118,
   "id": "091cef41-4acd-4e93-ba43-5c2989c5db68",
   "metadata": {},
   "outputs": [],
   "source": [
    "def simulate_sliding_qca(n: int, m: int, l: int, shots: int, with_ent=True, mixed_init=False):\n",
    "    grid = np.zeros((n, m))\n",
    "\n",
    "    init_probs = None\n",
    "    for t_start in range(0, m - l + 1):\n",
    "        print(f\"Window start: t = {t_start}\")\n",
    "        probs = run_window(n, l, shots, init_probs, with_ent, mixed_init)\n",
    "\n",
    "        # Store window outputs: only update new columns\n",
    "        for i in range(l):\n",
    "            t_idx = t_start + i\n",
    "            avgs = probs_to_grid(probs)\n",
    "            if t_idx < m:\n",
    "                grid[:, t_idx] = avgs\n",
    "\n",
    "        # Next window init: last timestep's output probs\n",
    "        init_probs = probs\n",
    "\n",
    "    return grid"
   ]
  },
  {
   "cell_type": "code",
   "execution_count": 120,
   "id": "00131524-659d-4b16-9f42-062400fe4f18",
   "metadata": {},
   "outputs": [
    {
     "name": "stdout",
     "output_type": "stream",
     "text": [
      "Window start: t = 0\n",
      "Window start: t = 1\n",
      "Window start: t = 2\n",
      "Window start: t = 3\n",
      "Window start: t = 4\n",
      "Window start: t = 5\n",
      "Window start: t = 6\n",
      "Window start: t = 7\n",
      "Window start: t = 8\n",
      "Window start: t = 9\n",
      "Window start: t = 10\n",
      "Window start: t = 11\n",
      "Window start: t = 12\n",
      "Window start: t = 13\n",
      "Window start: t = 14\n",
      "Window start: t = 15\n",
      "Window start: t = 16\n",
      "Window start: t = 17\n",
      "Window start: t = 18\n",
      "Window start: t = 19\n"
     ]
    },
    {
     "data": {
      "image/png": "[encoded data removed]",
      "text/plain": [
       "<Figure size 640x480 with 1 Axes>"
      ]
     },
     "metadata": {},
     "output_type": "display_data"
    }
   ],
   "source": [
    "grid = simulate_sliding_qca(n, m, l, shots)\n",
    "\n",
    "grid = grid.T\n",
    "# Normalize to get probabilities\n",
    "\n",
    "import matplotlib.pyplot as plt\n",
    "# Visualize\n",
    "plt.imshow(grid, cmap=\"viridis\", interpolation='nearest')\n",
    "plt.title(\"Quantum Rule 90 (PennyLane)\")\n",
    "plt.xlabel(\"Space\")\n",
    "plt.ylabel(\"Time\")\n",
    "plt.gca() # .invert_yaxis()  # match classical automata convention\n",
    "plt.show()"
   ]
  },
  {
   "cell_type": "code",
   "execution_count": 122,
   "id": "0ac89712-40bd-4963-9773-33535aa7290b",
   "metadata": {},
   "outputs": [
    {
     "data": {
      "image/png": "[encoded data removed]",
      "text/plain": [
       "<Figure size 640x480 with 1 Axes>"
      ]
     },
     "metadata": {},
     "output_type": "display_data"
    }
   ],
   "source": [
    "def classical_rule(size=n, steps=m):\n",
    "    import numpy as np\n",
    "    grid = np.zeros((steps, size), dtype=np.uint8)\n",
    "    grid[0, size // 2] = 1\n",
    "    for t in range(1, steps):\n",
    "        left = np.roll(grid[t - 1], 1)\n",
    "        center = grid[t - 1]\n",
    "        right = np.roll(grid[t - 1], -1)\n",
    "        neighborhood = (left << 2) | (center << 1) | right\n",
    "        rule = 90\n",
    "        grid[t] = ((rule >> neighborhood) & 1).astype(np.uint8)\n",
    "    return grid\n",
    "grid = classical_rule()\n",
    "plt.imshow(grid, cmap=\"binary\", interpolation='nearest')\n",
    "plt.title(\"Classical Rule 90\")\n",
    "plt.xlabel(\"Space\")\n",
    "plt.ylabel(\"Time\")\n",
    "plt.gca() # .invert_yaxis()  # match classical automata convention\n",
    "plt.show()"
   ]
  }
 ],
 "metadata": {
  "kernelspec": {
   "display_name": "Python 3 (ipykernel)",
   "language": "python",
   "name": "python3"
  },
  "language_info": {
   "codemirror_mode": {
    "name": "ipython",
    "version": 3
   },
   "file_extension": ".py",
   "mimetype": "text/x-python",
   "name": "python",
   "nbconvert_exporter": "python",
   "pygments_lexer": "ipython3",
   "version": "3.10.16"
  }
 },
 "nbformat": 4,
 "nbformat_minor": 5
}
